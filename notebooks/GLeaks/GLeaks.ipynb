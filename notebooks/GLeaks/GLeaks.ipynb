{
 "cells": [
  {
   "cell_type": "code",
   "execution_count": 19,
   "id": "micro-logic",
   "metadata": {},
   "outputs": [],
   "source": [
    "import pandas as pd\n",
    "import ipywidgets\n",
    "import rosegeomap\n",
    "from ipyleaflet import Polyline, Marker\n",
    "\n",
    "# load data as dataframe\n",
    "GasPipe = pd.read_csv('GasPipe.csv')\n",
    "GasPipe = GasPipe[['Date', 'StartLat', 'StartLong', 'EndLat','EndLong']]\n"
   ]
  },
  {
   "cell_type": "code",
   "execution_count": 20,
   "id": "color-wages",
   "metadata": {},
   "outputs": [],
   "source": [
    "# create ipywidgets slider\n",
    "selection_slider = ipywidgets.SelectionSlider(options=list(GasPipe['Date']),\n",
    "                                              value='1/3/1967',\n",
    "                                              description='Slider',\n",
    "                                              disabled=False,\n",
    "                                              continuous_update=False,\n",
    "                                              orientation='horizontal',\n",
    "                                              readout=True)\n",
    "\n"
   ]
  },
  {
   "cell_type": "code",
   "execution_count": 41,
   "id": "incorrect-killing",
   "metadata": {},
   "outputs": [
    {
     "data": {
      "application/vnd.jupyter.widget-view+json": {
       "model_id": "21b4a51630044574997c86ea6391c0ca",
       "version_major": 2,
       "version_minor": 0
      },
      "text/plain": [
       "Map(center=[40, -100], controls=(ZoomControl(options=['position', 'zoom_in_text', 'zoom_in_title', 'zoom_out_t…"
      ]
     },
     "metadata": {},
     "output_type": "display_data"
    },
    {
     "data": {
      "application/vnd.jupyter.widget-view+json": {
       "model_id": "327bbdad6f54482190d5e5781e7bed55",
       "version_major": 2,
       "version_minor": 0
      },
      "text/plain": [
       "interactive(children=(SelectionSlider(continuous_update=False, description='Slider', options=('1/3/1967', '3/5…"
      ]
     },
     "metadata": {},
     "output_type": "display_data"
    },
    {
     "data": {
      "text/plain": [
       "<function __main__.plot_GasPipe(date)>"
      ]
     },
     "execution_count": 41,
     "metadata": {},
     "output_type": "execute_result"
    }
   ],
   "source": [
    "# create map\n",
    "GasPipe_map = rosegeomap.Map(zoom=1)\n",
    "\n",
    "# display map\n",
    "display(GasPipe_map)\n",
    "\n",
    "# plot Leak locations using widget\n",
    "def plot_GasPipe(date):\n",
    "    g = GasPipe.loc[GasPipe['Date'] == date]\n",
    "    for (index, row) in g.iterrows():\n",
    "        line = Polyline(\n",
    "            location=[\n",
    "                [row.loc['StartLat'], row.loc['StartLong']], \n",
    "                [row.loc['EndLat'], row.loc['EndLong']]\n",
    "            ],\n",
    "            color=\"green\" ,\n",
    "            weight=\"5\"\n",
    "                \n",
    ")\n",
    "       \n",
    "        GasPipe_map.add_layer(line)\n",
    "    print(GasPipe.loc[GasPipe['Date'] == date])\n",
    "        \n",
    "ipywidgets.interact(plot_GasPipe, date=selection_slider)"
   ]
  },
  {
   "cell_type": "code",
   "execution_count": 26,
   "id": "pressed-forge",
   "metadata": {},
   "outputs": [
    {
     "data": {
      "text/plain": [
       "['S', 't', 'a', 'r', 't', 'L', 'a', 't']"
      ]
     },
     "execution_count": 26,
     "metadata": {},
     "output_type": "execute_result"
    }
   ],
   "source": [
    "print(row.loc['StartLat'])"
   ]
  },
  {
   "cell_type": "code",
   "execution_count": 17,
   "id": "instructional-separation",
   "metadata": {},
   "outputs": [
    {
     "ename": "NameError",
     "evalue": "name 'row' is not defined",
     "output_type": "error",
     "traceback": [
      "\u001b[1;31m---------------------------------------------------------------------------\u001b[0m",
      "\u001b[1;31mNameError\u001b[0m                                 Traceback (most recent call last)",
      "\u001b[1;32m<ipython-input-17-cec3787ff3e7>\u001b[0m in \u001b[0;36m<module>\u001b[1;34m\u001b[0m\n\u001b[1;32m----> 1\u001b[1;33m \u001b[1;33m[\u001b[0m\u001b[0mrow\u001b[0m\u001b[1;33m.\u001b[0m\u001b[0mloc\u001b[0m\u001b[1;33m[\u001b[0m\u001b[1;34m'EndLat'\u001b[0m\u001b[1;33m]\u001b[0m\u001b[1;33m,\u001b[0m \u001b[0mrow\u001b[0m\u001b[1;33m.\u001b[0m\u001b[0mloc\u001b[0m\u001b[1;33m[\u001b[0m\u001b[1;34m'EndLong'\u001b[0m\u001b[1;33m]\u001b[0m\u001b[1;33m]\u001b[0m\u001b[1;33m\u001b[0m\u001b[1;33m\u001b[0m\u001b[0m\n\u001b[0m",
      "\u001b[1;31mNameError\u001b[0m: name 'row' is not defined"
     ]
    }
   ],
   "source": [
    "[row.loc['EndLat'], row.loc['EndLong']]"
   ]
  },
  {
   "cell_type": "code",
   "execution_count": null,
   "id": "medical-circulation",
   "metadata": {},
   "outputs": [],
   "source": []
  }
 ],
 "metadata": {
  "kernelspec": {
   "display_name": "Python 3",
   "language": "python",
   "name": "python3"
  },
  "language_info": {
   "codemirror_mode": {
    "name": "ipython",
    "version": 3
   },
   "file_extension": ".py",
   "mimetype": "text/x-python",
   "name": "python",
   "nbconvert_exporter": "python",
   "pygments_lexer": "ipython3",
   "version": "3.8.8"
  }
 },
 "nbformat": 4,
 "nbformat_minor": 5
}
