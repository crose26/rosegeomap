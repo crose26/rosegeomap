{
 "cells": [
  {
   "cell_type": "code",
   "execution_count": 13,
   "id": "sustainable-tobacco",
   "metadata": {},
   "outputs": [],
   "source": [
    "  def add_csv(self, csvfile, style=None, layer_name=\"Untitled\"):\n",
    "        import pandas as pd\n",
    "        import ipywidgets\n",
    "        import rosegeomap\n",
    "        from ipyleaflet import Marker\n",
    "        \n",
    "        GasLeaks = pd.read_csv(csvfile)\n",
    "        GasLeaks = GasLeaks[['Date', 'Latitude', 'Longitude', 'Pipe Material']]\n",
    "        GasLeaks_map = rosegeomap.Map(zoom=1)\n",
    "        display(GasLeaks_map)\n",
    "        \n",
    "        selection_slider = ipywidgets.SelectionSlider(options=list(GasLeaks['Date']),\n",
    "            value='1/3/1967',\n",
    "            description='Slider',\n",
    "            disabled=False,\n",
    "            continuous_update=False,\n",
    "            orientation='horizontal',\n",
    "            readout=True)\n",
    "        \n",
    "        # plot locations using widget\n",
    "        def plot_GasLeaks(date):\n",
    "            g = GasLeaks.loc[GasLeaks['Date'] == date]\n",
    "            for (index, row) in g.iterrows():\n",
    "                marker = Marker(location=[row.loc['Latitude'], row.loc['Longitude']])\n",
    "                GasLeaks_map.add_layer(marker)\n",
    "            print(GasLeaks.loc[GasLeaks['Date'] == date])\n",
    "        \n",
    "        ipywidgets.interact(plot_GasLeaks, date=selection_slider)"
   ]
  },
  {
   "cell_type": "code",
   "execution_count": 14,
   "id": "retired-drill",
   "metadata": {},
   "outputs": [
    {
     "ename": "TypeError",
     "evalue": "add_csv() missing 1 required positional argument: 'csvfile'",
     "output_type": "error",
     "traceback": [
      "\u001b[1;31m---------------------------------------------------------------------------\u001b[0m",
      "\u001b[1;31mTypeError\u001b[0m                                 Traceback (most recent call last)",
      "\u001b[1;32m<ipython-input-14-0560c8752ffd>\u001b[0m in \u001b[0;36m<module>\u001b[1;34m\u001b[0m\n\u001b[0;32m      1\u001b[0m \u001b[0mcsvfile\u001b[0m \u001b[1;33m=\u001b[0m \u001b[1;34m\"GasLeaks_data.csv\"\u001b[0m\u001b[1;33m\u001b[0m\u001b[1;33m\u001b[0m\u001b[0m\n\u001b[1;32m----> 2\u001b[1;33m \u001b[0madd_csv\u001b[0m\u001b[1;33m(\u001b[0m\u001b[0mcsvfile\u001b[0m\u001b[1;33m)\u001b[0m\u001b[1;33m\u001b[0m\u001b[1;33m\u001b[0m\u001b[0m\n\u001b[0m",
      "\u001b[1;31mTypeError\u001b[0m: add_csv() missing 1 required positional argument: 'csvfile'"
     ]
    }
   ],
   "source": [
    "csvfile = \"GasLeaks_data.csv\"\n",
    "add_csv(csvfile)"
   ]
  },
  {
   "cell_type": "code",
   "execution_count": null,
   "id": "absent-sample",
   "metadata": {},
   "outputs": [],
   "source": []
  }
 ],
 "metadata": {
  "kernelspec": {
   "display_name": "Python 3",
   "language": "python",
   "name": "python3"
  },
  "language_info": {
   "codemirror_mode": {
    "name": "ipython",
    "version": 3
   },
   "file_extension": ".py",
   "mimetype": "text/x-python",
   "name": "python",
   "nbconvert_exporter": "python",
   "pygments_lexer": "ipython3",
   "version": "3.8.8"
  }
 },
 "nbformat": 4,
 "nbformat_minor": 5
}
