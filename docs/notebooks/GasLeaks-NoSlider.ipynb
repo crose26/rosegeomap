{
 "cells": [
  {
   "cell_type": "code",
   "execution_count": 9,
   "id": "gorgeous-tender",
   "metadata": {},
   "outputs": [],
   "source": [
    "def add_csv(csvfile):\n",
    "        import pandas as pd\n",
    "        import ipywidgets\n",
    "        import rosegeomap\n",
    "        from ipyleaflet import Marker\n",
    "        \n",
    "        GasLeaks = pd.read_csv(csvfile)\n",
    "        GasLeaks = GasLeaks[['Date', 'Latitude', 'Longitude', 'Pipe Material']]\n",
    "        GasLeaks_map = rosegeomap.Map(zoom=1)\n",
    "        display(GasLeaks_map)\n",
    "        \n",
    "        # plot earthquake locations using widget\n",
    "        def plot_GasLeaks(date):\n",
    "            g = GasLeaks.loc[GasLeaks['Date'] == date]\n",
    "            for (index, row) in g.iterrows():\n",
    "                marker = Marker(location=[row.loc['Latitude'], row.loc['Longitude']])\n",
    "                GasLeaks_map.add_layer(marker)\n",
    "            print(GasLeaks.loc[GasLeaks['Date'] == date])\n",
    "        \n",
    "        plot_GasLeaks()"
   ]
  },
  {
   "cell_type": "code",
   "execution_count": 10,
   "id": "suffering-glance",
   "metadata": {
    "scrolled": true
   },
   "outputs": [
    {
     "data": {
      "application/vnd.jupyter.widget-view+json": {
       "model_id": "2a4fa01fd0c64dd5be6299a22415d5c8",
       "version_major": 2,
       "version_minor": 0
      },
      "text/plain": [
       "Map(center=[40, -100], controls=(ZoomControl(options=['position', 'zoom_in_text', 'zoom_in_title', 'zoom_out_t…"
      ]
     },
     "metadata": {},
     "output_type": "display_data"
    },
    {
     "ename": "TypeError",
     "evalue": "plot_GasLeaks() missing 1 required positional argument: 'date'",
     "output_type": "error",
     "traceback": [
      "\u001b[1;31m---------------------------------------------------------------------------\u001b[0m",
      "\u001b[1;31mTypeError\u001b[0m                                 Traceback (most recent call last)",
      "\u001b[1;32m<ipython-input-10-c52f379efef0>\u001b[0m in \u001b[0;36m<module>\u001b[1;34m\u001b[0m\n\u001b[0;32m      1\u001b[0m \u001b[0mcsvfile\u001b[0m\u001b[1;33m=\u001b[0m \u001b[1;34m\"GasLeaks_data.csv\"\u001b[0m\u001b[1;33m\u001b[0m\u001b[1;33m\u001b[0m\u001b[0m\n\u001b[1;32m----> 2\u001b[1;33m \u001b[0madd_csv\u001b[0m\u001b[1;33m(\u001b[0m\u001b[0mcsvfile\u001b[0m\u001b[1;33m)\u001b[0m\u001b[1;33m\u001b[0m\u001b[1;33m\u001b[0m\u001b[0m\n\u001b[0m",
      "\u001b[1;32m<ipython-input-9-9144677d4242>\u001b[0m in \u001b[0;36madd_csv\u001b[1;34m(csvfile)\u001b[0m\n\u001b[0;32m     18\u001b[0m             \u001b[0mprint\u001b[0m\u001b[1;33m(\u001b[0m\u001b[0mGasLeaks\u001b[0m\u001b[1;33m.\u001b[0m\u001b[0mloc\u001b[0m\u001b[1;33m[\u001b[0m\u001b[0mGasLeaks\u001b[0m\u001b[1;33m[\u001b[0m\u001b[1;34m'Date'\u001b[0m\u001b[1;33m]\u001b[0m \u001b[1;33m==\u001b[0m \u001b[0mdate\u001b[0m\u001b[1;33m]\u001b[0m\u001b[1;33m)\u001b[0m\u001b[1;33m\u001b[0m\u001b[1;33m\u001b[0m\u001b[0m\n\u001b[0;32m     19\u001b[0m \u001b[1;33m\u001b[0m\u001b[0m\n\u001b[1;32m---> 20\u001b[1;33m         \u001b[0mplot_GasLeaks\u001b[0m\u001b[1;33m(\u001b[0m\u001b[1;33m)\u001b[0m\u001b[1;33m\u001b[0m\u001b[1;33m\u001b[0m\u001b[0m\n\u001b[0m",
      "\u001b[1;31mTypeError\u001b[0m: plot_GasLeaks() missing 1 required positional argument: 'date'"
     ]
    }
   ],
   "source": [
    "csvfile= \"GasLeaks_data.csv\"\n",
    "add_csv(csvfile)"
   ]
  },
  {
   "cell_type": "code",
   "execution_count": null,
   "id": "aware-robert",
   "metadata": {},
   "outputs": [],
   "source": [
    "(5,10),(4,5),()"
   ]
  }
 ],
 "metadata": {
  "kernelspec": {
   "display_name": "Python 3",
   "language": "python",
   "name": "python3"
  },
  "language_info": {
   "codemirror_mode": {
    "name": "ipython",
    "version": 3
   },
   "file_extension": ".py",
   "mimetype": "text/x-python",
   "name": "python",
   "nbconvert_exporter": "python",
   "pygments_lexer": "ipython3",
   "version": "3.8.8"
  }
 },
 "nbformat": 4,
 "nbformat_minor": 5
}
