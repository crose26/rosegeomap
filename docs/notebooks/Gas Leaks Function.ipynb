{
 "cells": [
  {
   "cell_type": "code",
   "execution_count": 1,
   "id": "gorgeous-tender",
   "metadata": {},
   "outputs": [],
   "source": [
    "def add_csv(csvfile):\n",
    "        import pandas as pd\n",
    "        import ipywidgets\n",
    "        import rosegeomap\n",
    "        from ipyleaflet import Marker\n",
    "        \n",
    "        GasLeaks = pd.read_csv(csvfile)\n",
    "        GasLeaks = GasLeaks[['Date', 'Latitude', 'Longitude', 'Pipe Material']]\n",
    "        GasLeaks_map = rosegeomap.Map(zoom=1)\n",
    "        display(GasLeaks_map)\n",
    "        \n",
    "        selection_slider = ipywidgets.SelectionSlider(options=list(GasLeaks['Date']),\n",
    "                                              value='1/3/1967',\n",
    "                                              description='Slider',\n",
    "                                              disabled=False,\n",
    "                                              continuous_update=False,\n",
    "                                              orientation='horizontal',\n",
    "                                              readout=True)\n",
    "        # plot Leaks locations using widget\n",
    "        def plot_GasLeaks(date):\n",
    "            g = GasLeaks.loc[GasLeaks['Date'] == date]\n",
    "            for (index, row) in g.iterrows():\n",
    "                marker = Marker(location=[row.loc['Latitude'], row.loc['Longitude']])\n",
    "                GasLeaks_map.add_layer(marker)\n",
    "            print(GasLeaks.loc[GasLeaks['Date'] == date])\n",
    "        \n",
    "        ipywidgets.interact(plot_GasLeaks, date=selection_slider)\n",
    "        "
   ]
  },
  {
   "cell_type": "code",
   "execution_count": 2,
   "id": "suffering-glance",
   "metadata": {
    "scrolled": true
   },
   "outputs": [
    {
     "data": {
      "application/vnd.jupyter.widget-view+json": {
       "model_id": "0737973a6f864195a4007902369aae57",
       "version_major": 2,
       "version_minor": 0
      },
      "text/plain": [
       "Map(center=[40, -100], controls=(ZoomControl(options=['position', 'zoom_in_text', 'zoom_in_title', 'zoom_out_t…"
      ]
     },
     "metadata": {},
     "output_type": "display_data"
    },
    {
     "data": {
      "application/vnd.jupyter.widget-view+json": {
       "model_id": "e25f20b53ae64075b32cf19043d7ea20",
       "version_major": 2,
       "version_minor": 0
      },
      "text/plain": [
       "interactive(children=(SelectionSlider(continuous_update=False, description='Slider', options=('1/3/1967', '3/5…"
      ]
     },
     "metadata": {},
     "output_type": "display_data"
    }
   ],
   "source": [
    "csvfile= \"GasLeaks_data.csv\"\n",
    "add_csv(csvfile)\n"
   ]
  },
  {
   "cell_type": "code",
   "execution_count": 30,
   "id": "aware-robert",
   "metadata": {},
   "outputs": [
    {
     "ename": "SyntaxError",
     "evalue": "unexpected EOF while parsing (<ipython-input-30-ac40fd83f67e>, line 1)",
     "output_type": "error",
     "traceback": [
      "\u001b[1;36m  File \u001b[1;32m\"<ipython-input-30-ac40fd83f67e>\"\u001b[1;36m, line \u001b[1;32m1\u001b[0m\n\u001b[1;33m    list(GasLeaks['Date']\u001b[0m\n\u001b[1;37m                         ^\u001b[0m\n\u001b[1;31mSyntaxError\u001b[0m\u001b[1;31m:\u001b[0m unexpected EOF while parsing\n"
     ]
    }
   ],
   "source": [
    "list(GasLeaks['Date']"
   ]
  },
  {
   "cell_type": "code",
   "execution_count": null,
   "id": "physical-agriculture",
   "metadata": {},
   "outputs": [],
   "source": []
  }
 ],
 "metadata": {
  "kernelspec": {
   "display_name": "Python 3",
   "language": "python",
   "name": "python3"
  },
  "language_info": {
   "codemirror_mode": {
    "name": "ipython",
    "version": 3
   },
   "file_extension": ".py",
   "mimetype": "text/x-python",
   "name": "python",
   "nbconvert_exporter": "python",
   "pygments_lexer": "ipython3",
   "version": "3.8.8"
  }
 },
 "nbformat": 4,
 "nbformat_minor": 5
}
