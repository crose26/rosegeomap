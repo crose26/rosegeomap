{
 "cells": [
  {
   "cell_type": "code",
   "execution_count": 12,
   "id": "proof-absorption",
   "metadata": {},
   "outputs": [],
   "source": [
    "import lab6demo\n",
    "from lab6demo.utils  import random_string"
   ]
  },
  {
   "cell_type": "code",
   "execution_count": 13,
   "id": "southern-stephen",
   "metadata": {},
   "outputs": [
    {
     "data": {
      "application/vnd.jupyter.widget-view+json": {
       "model_id": "0d1a1ee8946e4a6ab014f1f02888db41",
       "version_major": 2,
       "version_minor": 0
      },
      "text/plain": [
       "Map(center=[40, -100], controls=(ZoomControl(options=['position', 'zoom_in_text', 'zoom_in_title', 'zoom_out_t…"
      ]
     },
     "metadata": {},
     "output_type": "display_data"
    }
   ],
   "source": [
    "m = lab6demo.Map()\n",
    "m"
   ]
  },
  {
   "cell_type": "code",
   "execution_count": 14,
   "id": "angry-quantity",
   "metadata": {},
   "outputs": [],
   "source": [
    " style = {\n",
    "                \"stroke\": True,\n",
    "                \"color\": \"#ff0000\",\n",
    "                \"weight\": 2,\n",
    "                \"opacity\": 1,\n",
    "                \"fill\": True,\n",
    "                \"fillColor\": \"#00ff00\",\n",
    "                \"fillOpacity\": 0.5,\n",
    "            }"
   ]
  },
  {
   "cell_type": "code",
   "execution_count": 15,
   "id": "molecular-glossary",
   "metadata": {},
   "outputs": [],
   "source": [
    "states_geojson = \"C:/Users/14234/lab6demo/examples/data/us_states.geojson\""
   ]
  },
  {
   "cell_type": "code",
   "execution_count": 16,
   "id": "descending-exclusion",
   "metadata": {},
   "outputs": [],
   "source": [
    "m.add_geojson(states_geojson,style = style, layer_name=\"states\")"
   ]
  },
  {
   "cell_type": "code",
   "execution_count": 17,
   "id": "abandoned-sunset",
   "metadata": {},
   "outputs": [],
   "source": [
    " style2= {\n",
    "                \"stroke\": True,\n",
    "                \"color\": \"#0000ff\",\n",
    "                \"weight\": 2,\n",
    "                \"opacity\": 1,\n",
    "                \"fill\": True,\n",
    "                \"fillColor\": \"#00ff00\",\n",
    "                \"fillOpacity\": .5\n",
    "            }"
   ]
  },
  {
   "cell_type": "code",
   "execution_count": 18,
   "id": "distinct-ordinary",
   "metadata": {},
   "outputs": [],
   "source": [
    "countries_shp = \"C:/Users/14234/lab6demo/examples/data/countries.shp\""
   ]
  },
  {
   "cell_type": "code",
   "execution_count": 19,
   "id": "pacific-friendship",
   "metadata": {},
   "outputs": [],
   "source": [
    "m.add_shapefile(countries_shp, style=style2, layer_name=\"Shapefile\")"
   ]
  },
  {
   "cell_type": "code",
   "execution_count": 20,
   "id": "opposite-remedy",
   "metadata": {},
   "outputs": [
    {
     "data": {
      "text/plain": [
       "'awo'"
      ]
     },
     "execution_count": 20,
     "metadata": {},
     "output_type": "execute_result"
    }
   ],
   "source": [
    "random_string()"
   ]
  },
  {
   "cell_type": "code",
   "execution_count": null,
   "id": "emerging-testament",
   "metadata": {},
   "outputs": [],
   "source": []
  }
 ],
 "metadata": {
  "kernelspec": {
   "display_name": "Python 3",
   "language": "python",
   "name": "python3"
  },
  "language_info": {
   "codemirror_mode": {
    "name": "ipython",
    "version": 3
   },
   "file_extension": ".py",
   "mimetype": "text/x-python",
   "name": "python",
   "nbconvert_exporter": "python",
   "pygments_lexer": "ipython3",
   "version": "3.8.8"
  }
 },
 "nbformat": 4,
 "nbformat_minor": 5
}
