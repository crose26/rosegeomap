{
 "cells": [
  {
   "cell_type": "code",
   "execution_count": 8,
   "id": "gorgeous-tender",
   "metadata": {},
   "outputs": [
    {
     "data": {
      "application/vnd.jupyter.widget-view+json": {
       "model_id": "da85bed309ed41b79f58b9637006d178",
       "version_major": 2,
       "version_minor": 0
      },
      "text/plain": [
       "Map(center=[40, -100], controls=(ZoomControl(options=['position', 'zoom_in_text', 'zoom_in_title', 'zoom_out_t…"
      ]
     },
     "metadata": {},
     "output_type": "display_data"
    },
    {
     "data": {
      "application/vnd.jupyter.widget-view+json": {
       "model_id": "ddf021701d01484a83f7dc401c769c85",
       "version_major": 2,
       "version_minor": 0
      },
      "text/plain": [
       "interactive(children=(SelectionSlider(continuous_update=False, description='Slider', options=('1/3/1967', '3/5…"
      ]
     },
     "metadata": {},
     "output_type": "display_data"
    },
    {
     "data": {
      "text/plain": [
       "<function __main__.plot_GasLeaks(date)>"
      ]
     },
     "execution_count": 8,
     "metadata": {},
     "output_type": "execute_result"
    }
   ],
   "source": [
    "\n",
    "import pandas as pd\n",
    "import ipywidgets\n",
    "import rosegeomap\n",
    "from ipyleaflet import Marker\n",
    "        \n",
    "GasLeaks = pd.read_csv(csvfile)\n",
    "GasLeaks = GasLeaks[['Date', 'Latitude', 'Longitude', 'Pipe Material']]\n",
    "GasLeaks_map = rosegeomap.Map(zoom=1)\n",
    "display(GasLeaks_map)\n",
    "        \n",
    "selection_slider = ipywidgets.SelectionSlider(options=list(GasLeaks['Date']),\n",
    "                                        value='1/3/1967',\n",
    "                                        description='Slider',\n",
    "                                        disabled=False,\n",
    "                                        continuous_update=False,\n",
    "                                        orientation='horizontal',\n",
    "                                        readout=True)\n",
    "# plot earthquake locations using widget\n",
    "def plot_GasLeaks(date):\n",
    "    g = GasLeaks.loc[GasLeaks['Date'] == date]\n",
    "    for (index, row) in g.iterrows():\n",
    "        marker = Marker(location=[row.loc['Latitude'], row.loc['Longitude']])\n",
    "        GasLeaks_map.add_layer(marker)\n",
    "    print(GasLeaks.loc[GasLeaks['Date'] == date])\n",
    "        \n",
    "ipywidgets.interact(plot_GasLeaks, date=selection_slider)\n",
    "        "
   ]
  },
  {
   "cell_type": "code",
   "execution_count": null,
   "id": "suffering-glance",
   "metadata": {
    "scrolled": true
   },
   "outputs": [],
   "source": [
    "\n"
   ]
  },
  {
   "cell_type": "code",
   "execution_count": null,
   "id": "physical-agriculture",
   "metadata": {},
   "outputs": [],
   "source": []
  }
 ],
 "metadata": {
  "kernelspec": {
   "display_name": "Python 3",
   "language": "python",
   "name": "python3"
  },
  "language_info": {
   "codemirror_mode": {
    "name": "ipython",
    "version": 3
   },
   "file_extension": ".py",
   "mimetype": "text/x-python",
   "name": "python",
   "nbconvert_exporter": "python",
   "pygments_lexer": "ipython3",
   "version": "3.8.8"
  }
 },
 "nbformat": 4,
 "nbformat_minor": 5
}
