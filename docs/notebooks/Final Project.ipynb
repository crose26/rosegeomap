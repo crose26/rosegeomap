{
 "cells": [
  {
   "cell_type": "code",
   "execution_count": 89,
   "id": "everyday-affairs",
   "metadata": {},
   "outputs": [],
   "source": [
    "def csv_to_shp(csvfile):\n",
    "    from ipyleaflet import Map, Marker, MarkerCluster\n",
    "    import pandas as pd\n",
    "\n",
    "    # airports dataframe using vega_datasets\n",
    "    cities=pd.read_csv(csvfile)\n",
    "    cities=cities[['name','sov_a3','latitude','longitude','pop_max']]\n",
    "\n",
    "    # create map\n",
    "    cities_map = Map(center=(40, -99), zoom=4)\n",
    "\n",
    "    # plot airport locations\n",
    "    for (index, row) in cities.iterrows():\n",
    "        marker = Marker(location=[row.loc['latitude'], row.loc['longitude']])\n",
    "        cities_map.add_layer(marker)\n",
    "    \n",
    "    # display map    \n",
    "    display(cities_map)"
   ]
  },
  {
   "cell_type": "code",
   "execution_count": 90,
   "id": "intense-scientist",
   "metadata": {},
   "outputs": [
    {
     "data": {
      "application/vnd.jupyter.widget-view+json": {
       "model_id": "bd730b6bc4c7465aba1b1a55343374ad",
       "version_major": 2,
       "version_minor": 0
      },
      "text/plain": [
       "Map(center=[40, -99], controls=(ZoomControl(options=['position', 'zoom_in_text', 'zoom_in_title', 'zoom_out_te…"
      ]
     },
     "metadata": {},
     "output_type": "display_data"
    }
   ],
   "source": [
    "csvfile = \"world_cities.csv\"\n",
    "csv_to_shp(csv_file)"
   ]
  },
  {
   "cell_type": "code",
   "execution_count": null,
   "id": "stunning-snapshot",
   "metadata": {},
   "outputs": [],
   "source": []
  }
 ],
 "metadata": {
  "kernelspec": {
   "display_name": "Python 3",
   "language": "python",
   "name": "python3"
  },
  "language_info": {
   "codemirror_mode": {
    "name": "ipython",
    "version": 3
   },
   "file_extension": ".py",
   "mimetype": "text/x-python",
   "name": "python",
   "nbconvert_exporter": "python",
   "pygments_lexer": "ipython3",
   "version": "3.8.8"
  }
 },
 "nbformat": 4,
 "nbformat_minor": 5
}
